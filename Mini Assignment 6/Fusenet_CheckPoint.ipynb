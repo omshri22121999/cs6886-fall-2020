{
  "nbformat": 4,
  "nbformat_minor": 0,
  "metadata": {
    "colab": {
      "name": "Fusenet_CheckPoint.ipynb",
      "provenance": [],
      "collapsed_sections": []
    },
    "kernelspec": {
      "name": "python3",
      "display_name": "Python 3"
    },
    "accelerator": "GPU",
    "widgets": {
      "application/vnd.jupyter.widget-state+json": {
        "60b2d98e906f4f67b1b457a57c7dfaac": {
          "model_module": "@jupyter-widgets/controls",
          "model_name": "VBoxModel",
          "state": {
            "_view_name": "VBoxView",
            "_dom_classes": [],
            "_model_name": "VBoxModel",
            "_view_module": "@jupyter-widgets/controls",
            "_model_module_version": "1.5.0",
            "_view_count": null,
            "_view_module_version": "1.5.0",
            "box_style": "",
            "layout": "IPY_MODEL_af8e55b96e904228aa0f315537286bf5",
            "_model_module": "@jupyter-widgets/controls",
            "children": [
              "IPY_MODEL_0026a8308c5c474785d6aa94145b1969",
              "IPY_MODEL_19297ec8a51342379c3158c692c254c6"
            ]
          }
        },
        "af8e55b96e904228aa0f315537286bf5": {
          "model_module": "@jupyter-widgets/base",
          "model_name": "LayoutModel",
          "state": {
            "_view_name": "LayoutView",
            "grid_template_rows": null,
            "right": null,
            "justify_content": null,
            "_view_module": "@jupyter-widgets/base",
            "overflow": null,
            "_model_module_version": "1.2.0",
            "_view_count": null,
            "flex_flow": null,
            "width": null,
            "min_width": null,
            "border": null,
            "align_items": null,
            "bottom": null,
            "_model_module": "@jupyter-widgets/base",
            "top": null,
            "grid_column": null,
            "overflow_y": null,
            "overflow_x": null,
            "grid_auto_flow": null,
            "grid_area": null,
            "grid_template_columns": null,
            "flex": null,
            "_model_name": "LayoutModel",
            "justify_items": null,
            "grid_row": null,
            "max_height": null,
            "align_content": null,
            "visibility": null,
            "align_self": null,
            "height": null,
            "min_height": null,
            "padding": null,
            "grid_auto_rows": null,
            "grid_gap": null,
            "max_width": null,
            "order": null,
            "_view_module_version": "1.2.0",
            "grid_template_areas": null,
            "object_position": null,
            "object_fit": null,
            "grid_auto_columns": null,
            "margin": null,
            "display": null,
            "left": null
          }
        },
        "0026a8308c5c474785d6aa94145b1969": {
          "model_module": "@jupyter-widgets/controls",
          "model_name": "LabelModel",
          "state": {
            "_view_name": "LabelView",
            "style": "IPY_MODEL_b2f4f41ae7e04d9cbeb4c241e44de6bb",
            "_dom_classes": [],
            "description": "",
            "_model_name": "LabelModel",
            "placeholder": "​",
            "_view_module": "@jupyter-widgets/controls",
            "_model_module_version": "1.5.0",
            "value": " 0.06MB of 0.06MB uploaded (0.00MB deduped)\r",
            "_view_count": null,
            "_view_module_version": "1.5.0",
            "description_tooltip": null,
            "_model_module": "@jupyter-widgets/controls",
            "layout": "IPY_MODEL_076aabbac083481faade40c3a313e266"
          }
        },
        "19297ec8a51342379c3158c692c254c6": {
          "model_module": "@jupyter-widgets/controls",
          "model_name": "FloatProgressModel",
          "state": {
            "_view_name": "ProgressView",
            "style": "IPY_MODEL_d02f229968f141a9a68a6b7b973ddf8d",
            "_dom_classes": [],
            "description": "",
            "_model_name": "FloatProgressModel",
            "bar_style": "",
            "max": 1,
            "_view_module": "@jupyter-widgets/controls",
            "_model_module_version": "1.5.0",
            "value": 1,
            "_view_count": null,
            "_view_module_version": "1.5.0",
            "orientation": "horizontal",
            "min": 0,
            "description_tooltip": null,
            "_model_module": "@jupyter-widgets/controls",
            "layout": "IPY_MODEL_6c5b9f702b144e88b21a8c3bc764eb84"
          }
        },
        "b2f4f41ae7e04d9cbeb4c241e44de6bb": {
          "model_module": "@jupyter-widgets/controls",
          "model_name": "DescriptionStyleModel",
          "state": {
            "_view_name": "StyleView",
            "_model_name": "DescriptionStyleModel",
            "description_width": "",
            "_view_module": "@jupyter-widgets/base",
            "_model_module_version": "1.5.0",
            "_view_count": null,
            "_view_module_version": "1.2.0",
            "_model_module": "@jupyter-widgets/controls"
          }
        },
        "076aabbac083481faade40c3a313e266": {
          "model_module": "@jupyter-widgets/base",
          "model_name": "LayoutModel",
          "state": {
            "_view_name": "LayoutView",
            "grid_template_rows": null,
            "right": null,
            "justify_content": null,
            "_view_module": "@jupyter-widgets/base",
            "overflow": null,
            "_model_module_version": "1.2.0",
            "_view_count": null,
            "flex_flow": null,
            "width": null,
            "min_width": null,
            "border": null,
            "align_items": null,
            "bottom": null,
            "_model_module": "@jupyter-widgets/base",
            "top": null,
            "grid_column": null,
            "overflow_y": null,
            "overflow_x": null,
            "grid_auto_flow": null,
            "grid_area": null,
            "grid_template_columns": null,
            "flex": null,
            "_model_name": "LayoutModel",
            "justify_items": null,
            "grid_row": null,
            "max_height": null,
            "align_content": null,
            "visibility": null,
            "align_self": null,
            "height": null,
            "min_height": null,
            "padding": null,
            "grid_auto_rows": null,
            "grid_gap": null,
            "max_width": null,
            "order": null,
            "_view_module_version": "1.2.0",
            "grid_template_areas": null,
            "object_position": null,
            "object_fit": null,
            "grid_auto_columns": null,
            "margin": null,
            "display": null,
            "left": null
          }
        },
        "d02f229968f141a9a68a6b7b973ddf8d": {
          "model_module": "@jupyter-widgets/controls",
          "model_name": "ProgressStyleModel",
          "state": {
            "_view_name": "StyleView",
            "_model_name": "ProgressStyleModel",
            "description_width": "",
            "_view_module": "@jupyter-widgets/base",
            "_model_module_version": "1.5.0",
            "_view_count": null,
            "_view_module_version": "1.2.0",
            "bar_color": null,
            "_model_module": "@jupyter-widgets/controls"
          }
        },
        "6c5b9f702b144e88b21a8c3bc764eb84": {
          "model_module": "@jupyter-widgets/base",
          "model_name": "LayoutModel",
          "state": {
            "_view_name": "LayoutView",
            "grid_template_rows": null,
            "right": null,
            "justify_content": null,
            "_view_module": "@jupyter-widgets/base",
            "overflow": null,
            "_model_module_version": "1.2.0",
            "_view_count": null,
            "flex_flow": null,
            "width": null,
            "min_width": null,
            "border": null,
            "align_items": null,
            "bottom": null,
            "_model_module": "@jupyter-widgets/base",
            "top": null,
            "grid_column": null,
            "overflow_y": null,
            "overflow_x": null,
            "grid_auto_flow": null,
            "grid_area": null,
            "grid_template_columns": null,
            "flex": null,
            "_model_name": "LayoutModel",
            "justify_items": null,
            "grid_row": null,
            "max_height": null,
            "align_content": null,
            "visibility": null,
            "align_self": null,
            "height": null,
            "min_height": null,
            "padding": null,
            "grid_auto_rows": null,
            "grid_gap": null,
            "max_width": null,
            "order": null,
            "_view_module_version": "1.2.0",
            "grid_template_areas": null,
            "object_position": null,
            "object_fit": null,
            "grid_auto_columns": null,
            "margin": null,
            "display": null,
            "left": null
          }
        }
      }
    }
  },
  "cells": [
    {
      "cell_type": "code",
      "metadata": {
        "colab": {
          "base_uri": "https://localhost:8080/"
        },
        "id": "QlePi9R9L7iO",
        "outputId": "ade5d2eb-a585-461d-e408-a3b3c76668b4"
      },
      "source": [
        "!pip install wandb"
      ],
      "execution_count": null,
      "outputs": [
        {
          "output_type": "stream",
          "text": [
            "Requirement already satisfied: wandb in /usr/local/lib/python3.6/dist-packages (0.10.12)\n",
            "Requirement already satisfied: python-dateutil>=2.6.1 in /usr/local/lib/python3.6/dist-packages (from wandb) (2.8.1)\n",
            "Requirement already satisfied: sentry-sdk>=0.4.0 in /usr/local/lib/python3.6/dist-packages (from wandb) (0.19.5)\n",
            "Requirement already satisfied: shortuuid>=0.5.0 in /usr/local/lib/python3.6/dist-packages (from wandb) (1.0.1)\n",
            "Requirement already satisfied: GitPython>=1.0.0 in /usr/local/lib/python3.6/dist-packages (from wandb) (3.1.11)\n",
            "Requirement already satisfied: watchdog>=0.8.3 in /usr/local/lib/python3.6/dist-packages (from wandb) (1.0.1)\n",
            "Requirement already satisfied: configparser>=3.8.1 in /usr/local/lib/python3.6/dist-packages (from wandb) (5.0.1)\n",
            "Requirement already satisfied: PyYAML in /usr/local/lib/python3.6/dist-packages (from wandb) (3.13)\n",
            "Requirement already satisfied: requests<3,>=2.0.0 in /usr/local/lib/python3.6/dist-packages (from wandb) (2.23.0)\n",
            "Requirement already satisfied: subprocess32>=3.5.3 in /usr/local/lib/python3.6/dist-packages (from wandb) (3.5.4)\n",
            "Requirement already satisfied: six>=1.13.0 in /usr/local/lib/python3.6/dist-packages (from wandb) (1.15.0)\n",
            "Requirement already satisfied: Click>=7.0 in /usr/local/lib/python3.6/dist-packages (from wandb) (7.1.2)\n",
            "Requirement already satisfied: promise<3,>=2.0 in /usr/local/lib/python3.6/dist-packages (from wandb) (2.3)\n",
            "Requirement already satisfied: docker-pycreds>=0.4.0 in /usr/local/lib/python3.6/dist-packages (from wandb) (0.4.0)\n",
            "Requirement already satisfied: protobuf>=3.12.0 in /usr/local/lib/python3.6/dist-packages (from wandb) (3.12.4)\n",
            "Requirement already satisfied: psutil>=5.0.0 in /usr/local/lib/python3.6/dist-packages (from wandb) (5.4.8)\n",
            "Requirement already satisfied: urllib3>=1.10.0 in /usr/local/lib/python3.6/dist-packages (from sentry-sdk>=0.4.0->wandb) (1.24.3)\n",
            "Requirement already satisfied: certifi in /usr/local/lib/python3.6/dist-packages (from sentry-sdk>=0.4.0->wandb) (2020.12.5)\n",
            "Requirement already satisfied: gitdb<5,>=4.0.1 in /usr/local/lib/python3.6/dist-packages (from GitPython>=1.0.0->wandb) (4.0.5)\n",
            "Requirement already satisfied: idna<3,>=2.5 in /usr/local/lib/python3.6/dist-packages (from requests<3,>=2.0.0->wandb) (2.10)\n",
            "Requirement already satisfied: chardet<4,>=3.0.2 in /usr/local/lib/python3.6/dist-packages (from requests<3,>=2.0.0->wandb) (3.0.4)\n",
            "Requirement already satisfied: setuptools in /usr/local/lib/python3.6/dist-packages (from protobuf>=3.12.0->wandb) (50.3.2)\n",
            "Requirement already satisfied: smmap<4,>=3.0.1 in /usr/local/lib/python3.6/dist-packages (from gitdb<5,>=4.0.1->GitPython>=1.0.0->wandb) (3.0.4)\n"
          ],
          "name": "stdout"
        }
      ]
    },
    {
      "cell_type": "code",
      "metadata": {
        "id": "JMJtrIeOIfOH"
      },
      "source": [
        "import torch\n",
        "import torch.nn as nn\n",
        "import torch.nn.functional as F\n",
        "import torch.utils.checkpoint as checkpoint\n",
        "import torchvision\n",
        "import torchvision.transforms as transforms\n",
        "import torch.optim as optim\n",
        "import wandb\n",
        "import time"
      ],
      "execution_count": null,
      "outputs": []
    },
    {
      "cell_type": "code",
      "metadata": {
        "id": "_3rs4jQoL0T3"
      },
      "source": [
        "# Hsigmoid Implementation\n",
        "class Hsigmoid(nn.Module):\n",
        "    def __init__(self, inplace=True):\n",
        "        super(Hsigmoid, self).__init__()\n",
        "        self.inplace = inplace\n",
        "\n",
        "    def forward(self, x):\n",
        "        return F.relu6(x + 3.0, inplace=self.inplace) / 6.0\n",
        "\n",
        "\n",
        "# SEModule Implementation\n",
        "class SEModule(nn.Module):\n",
        "    def __init__(self, channel, reduction=4):\n",
        "        super(SEModule, self).__init__()\n",
        "        self.avg_pool = nn.AdaptiveAvgPool2d(1)\n",
        "        self.fc = nn.Sequential(\n",
        "            nn.Linear(channel, channel // reduction, bias=False),\n",
        "            nn.ReLU(inplace=True),\n",
        "            nn.Linear(channel // reduction, channel, bias=False),\n",
        "            Hsigmoid(),\n",
        "        )\n",
        "\n",
        "    def forward(self, x):\n",
        "        b, c, _, _ = x.size()\n",
        "        y = self.avg_pool(x).view(b, c)\n",
        "        y = self.fc(y).view(b, c, 1, 1)\n",
        "        return x * y.expand_as(x)\n",
        "\n",
        "\n",
        "# H-Swish Implementation\n",
        "class Hswish(nn.Module):\n",
        "    def __init__(self, inplace=True):\n",
        "        super(Hswish, self).__init__()\n",
        "        self.inplace = inplace\n",
        "\n",
        "    def forward(self, x):\n",
        "        return x * F.relu6(x + 3.0, inplace=self.inplace) / 6.0\n",
        "\n",
        "\n",
        "# Fuse Layer\n",
        "class Fuse(nn.Module):\n",
        "    def __init__(\n",
        "        self,\n",
        "        in_channel,\n",
        "        exp_channel,\n",
        "        out_channel,\n",
        "        non_linearity,\n",
        "        kernel_size,\n",
        "        stride,\n",
        "        is_se=True,\n",
        "        apply_bn=True,\n",
        "    ):\n",
        "        super(Fuse, self).__init__()\n",
        "        if non_linearity == \"relu\":\n",
        "            self.nl = nn.ReLU(inplace=True)\n",
        "        elif non_linearity == \"hswish\":\n",
        "            self.nl = Hswish(inplace=True)\n",
        "        else:\n",
        "            raise Exception(\"Please use proper non-linearity\")\n",
        "        self.is_se = is_se\n",
        "        self.apply_bn = apply_bn\n",
        "\n",
        "        # Defining trainable parameters\n",
        "\n",
        "        self.conv1 = nn.Conv2d(\n",
        "            in_channels=in_channel,\n",
        "            out_channels=exp_channel,\n",
        "            kernel_size=1,\n",
        "            stride=1,\n",
        "            bias=False,\n",
        "        )\n",
        "\n",
        "        self.batchn1 = nn.BatchNorm2d(num_features=exp_channel)\n",
        "\n",
        "        self.conv2_a = nn.Conv2d(\n",
        "            in_channels=exp_channel,\n",
        "            out_channels=exp_channel,\n",
        "            kernel_size=(kernel_size, 1),\n",
        "            stride=stride,\n",
        "            padding=((kernel_size - 1) // 2, 0),\n",
        "            groups=exp_channel,\n",
        "            bias=False,\n",
        "        )\n",
        "        self.conv2_b = nn.Conv2d(\n",
        "            in_channels=exp_channel,\n",
        "            out_channels=exp_channel,\n",
        "            kernel_size=(1, kernel_size),\n",
        "            stride=stride,\n",
        "            padding=(0, (kernel_size - 1) // 2),\n",
        "            groups=exp_channel,\n",
        "            bias=False,\n",
        "        )\n",
        "\n",
        "        self.batchn2_a = nn.BatchNorm2d(num_features=exp_channel)\n",
        "        self.batchn2_b = nn.BatchNorm2d(num_features=exp_channel)\n",
        "\n",
        "        if self.is_se:\n",
        "            self.se = SEModule(2 * exp_channel)\n",
        "\n",
        "        self.conv3 = nn.Conv2d(\n",
        "            in_channels=2 * exp_channel,\n",
        "            out_channels=out_channel,\n",
        "            kernel_size=1,\n",
        "            stride=1,\n",
        "            bias=False,\n",
        "        )\n",
        "        self.batchn3 = nn.BatchNorm2d(num_features=out_channel)\n",
        "\n",
        "    def forward(self, x):\n",
        "        x = self.conv1(x)\n",
        "        x = self.nl(x)\n",
        "        x = self.batchn1(x)\n",
        "\n",
        "        x_1 = self.conv2_a(x)\n",
        "        x_2 = self.conv2_b(x)\n",
        "\n",
        "        x_1 = self.batchn2_a(x_1)\n",
        "        x_2 = self.batchn2_b(x_2)\n",
        "\n",
        "        x = torch.cat([x_1, x_2], dim=1)\n",
        "\n",
        "        if self.is_se:\n",
        "            x = self.se(x)\n",
        "\n",
        "        x = self.nl(x)\n",
        "\n",
        "        x = self.conv3(x)\n",
        "\n",
        "        if self.apply_bn:\n",
        "            x = self.batchn3(x)\n",
        "\n",
        "        return x"
      ],
      "execution_count": null,
      "outputs": []
    },
    {
      "cell_type": "code",
      "metadata": {
        "id": "9Seh04nTMA2N"
      },
      "source": [
        "# Fusenet Model\n",
        "class FuseNet(nn.Module):\n",
        "    def __init__(self, checkpoint_list):\n",
        "        super(FuseNet, self).__init__()\n",
        "\n",
        "        self.layer_to_be_checkpointed = []\n",
        "\n",
        "        self.checkpoint_list = checkpoint_list\n",
        "\n",
        "        # Defining trainable parameters\n",
        "\n",
        "        self.conv1 = nn.Conv2d(\n",
        "            in_channels=3,\n",
        "            out_channels=16,\n",
        "            kernel_size=3,\n",
        "            stride=2,\n",
        "            padding=1,\n",
        "            bias=False,\n",
        "        )\n",
        "\n",
        "        self.batchn1 = nn.BatchNorm2d(16)\n",
        "        self.hswish = Hswish()\n",
        "\n",
        "        self.fuse1 = Fuse(\n",
        "            in_channel=16,\n",
        "            exp_channel=16,\n",
        "            out_channel=16,\n",
        "            non_linearity=\"relu\",\n",
        "            kernel_size=3,\n",
        "            stride=2,\n",
        "            is_se=True,\n",
        "        )\n",
        "        self.fuse2 = Fuse(\n",
        "            in_channel=16,\n",
        "            exp_channel=72,\n",
        "            out_channel=24,\n",
        "            non_linearity=\"relu\",\n",
        "            kernel_size=3,\n",
        "            stride=2,\n",
        "            is_se=False,\n",
        "        )\n",
        "        self.fuse3 = Fuse(\n",
        "            in_channel=24,\n",
        "            exp_channel=88,\n",
        "            out_channel=24,\n",
        "            non_linearity=\"relu\",\n",
        "            kernel_size=3,\n",
        "            stride=1,\n",
        "            is_se=False,\n",
        "        )\n",
        "        self.fuse4 = Fuse(\n",
        "            in_channel=24,\n",
        "            exp_channel=96,\n",
        "            out_channel=40,\n",
        "            non_linearity=\"hswish\",\n",
        "            kernel_size=5,\n",
        "            stride=2,\n",
        "            is_se=True,\n",
        "        )\n",
        "        self.fuse5 = Fuse(\n",
        "            in_channel=40,\n",
        "            exp_channel=240,\n",
        "            out_channel=40,\n",
        "            non_linearity=\"hswish\",\n",
        "            kernel_size=5,\n",
        "            stride=1,\n",
        "            is_se=True,\n",
        "        )\n",
        "        self.fuse6 = Fuse(\n",
        "            in_channel=40,\n",
        "            exp_channel=240,\n",
        "            out_channel=40,\n",
        "            non_linearity=\"hswish\",\n",
        "            kernel_size=5,\n",
        "            stride=1,\n",
        "            is_se=True,\n",
        "        )\n",
        "        self.fuse7 = Fuse(\n",
        "            in_channel=40,\n",
        "            exp_channel=120,\n",
        "            out_channel=48,\n",
        "            non_linearity=\"hswish\",\n",
        "            kernel_size=5,\n",
        "            stride=1,\n",
        "            is_se=True,\n",
        "        )\n",
        "        self.fuse8 = Fuse(\n",
        "            in_channel=48,\n",
        "            exp_channel=144,\n",
        "            out_channel=48,\n",
        "            non_linearity=\"hswish\",\n",
        "            kernel_size=5,\n",
        "            stride=1,\n",
        "            is_se=True,\n",
        "        )\n",
        "        self.fuse9 = Fuse(\n",
        "            in_channel=48,\n",
        "            exp_channel=288,\n",
        "            out_channel=96,\n",
        "            non_linearity=\"hswish\",\n",
        "            kernel_size=5,\n",
        "            stride=2,\n",
        "            is_se=True,\n",
        "        )\n",
        "        self.fuse10 = Fuse(\n",
        "            in_channel=96,\n",
        "            exp_channel=576,\n",
        "            out_channel=96,\n",
        "            non_linearity=\"hswish\",\n",
        "            kernel_size=5,\n",
        "            stride=1,\n",
        "            is_se=True,\n",
        "        )\n",
        "        self.fuse11 = Fuse(\n",
        "            in_channel=96,\n",
        "            exp_channel=576,\n",
        "            out_channel=96,\n",
        "            non_linearity=\"hswish\",\n",
        "            kernel_size=5,\n",
        "            stride=1,\n",
        "            is_se=True,\n",
        "        )\n",
        "\n",
        "        self.conv2 = nn.Conv2d(\n",
        "            in_channels=96, out_channels=576, kernel_size=1, stride=1, bias=False\n",
        "        )\n",
        "        self.batchn2 = nn.BatchNorm2d(576)\n",
        "\n",
        "        self.adap = nn.AdaptiveAvgPool2d(1)\n",
        "\n",
        "        self.conv3 = nn.Conv2d(\n",
        "            in_channels=576, out_channels=1024, kernel_size=1, stride=1, bias=False\n",
        "        )\n",
        "\n",
        "        self.drop = nn.Dropout(p=0.2)\n",
        "\n",
        "        self.lin = nn.Linear(in_features=1024, out_features=100, bias=True)\n",
        "\n",
        "    def forward(self, x):\n",
        "\n",
        "        # 1 - Conv 1\n",
        "        if 1 in self.checkpoint_list:\n",
        "          x = self.conv1(x)\n",
        "        else:\n",
        "          x = checkpoint.checkpoint(self.conv1,x)\n",
        "        \n",
        "        # 2 - Hswish\n",
        "        if 2 in self.checkpoint_list:\n",
        "          x = self.hswish(x)\n",
        "        else:\n",
        "          x = checkpoint.checkpoint(self.hswish,x)\n",
        "        \n",
        "        # 3 - Bactchnorm 1\n",
        "        if 3 in self.checkpoint_list:\n",
        "          x = self.batchn1(x)\n",
        "        else:\n",
        "          x = checkpoint.checkpoint(self.batchn1,x)\n",
        "\n",
        "        # 4 - Fuse 1\n",
        "        if 4 in self.checkpoint_list:\n",
        "          x = self.fuse1(x)\n",
        "        else:\n",
        "          x = checkpoint.checkpoint(self.fuse1,x)\n",
        "        # 5 - Fuse 2\n",
        "        if 5 in self.checkpoint_list:\n",
        "          x = self.fuse2(x)\n",
        "        else:\n",
        "          x = checkpoint.checkpoint(self.fuse2,x)\n",
        "        # 6 - Fuse 3\n",
        "        if 6 in self.checkpoint_list:\n",
        "          x = self.fuse3(x)\n",
        "        else:\n",
        "          x = checkpoint.checkpoint(self.fuse3,x)\n",
        "        # 7 - Fuse 4\n",
        "        if 7 in self.checkpoint_list:\n",
        "          x = self.fuse4(x)\n",
        "        else:\n",
        "          x = checkpoint.checkpoint(self.fuse4,x)\n",
        "        # 8 - Fuse 5\n",
        "        if 8 in self.checkpoint_list:\n",
        "          x = self.fuse5(x)\n",
        "        else:\n",
        "          x = checkpoint.checkpoint(self.fuse5,x)\n",
        "        # 9 - Fuse 6\n",
        "        if 9 in self.checkpoint_list:\n",
        "          x = self.fuse6(x)\n",
        "        else:\n",
        "          x = checkpoint.checkpoint(self.fuse6,x)\n",
        "        # 10 - Fuse 7\n",
        "        if 10 in self.checkpoint_list:\n",
        "          x = self.fuse7(x)\n",
        "        else:\n",
        "          x = checkpoint.checkpoint(self.fuse7,x)\n",
        "        # 11 - Fuse 8\n",
        "        if 11 in self.checkpoint_list:\n",
        "          x = self.fuse8(x)\n",
        "        else:\n",
        "          x = checkpoint.checkpoint(self.fuse8,x)\n",
        "        # 12 - Fuse 9\n",
        "        if 12 in self.checkpoint_list:\n",
        "          x = self.fuse9(x)\n",
        "        else:\n",
        "          x = checkpoint.checkpoint(self.fuse9,x)\n",
        "        # 13 - Fuse 10\n",
        "        if 13 in self.checkpoint_list:\n",
        "          x = self.fuse10(x)\n",
        "        else:\n",
        "          x = checkpoint.checkpoint(self.fuse10,x)\n",
        "        # 14 - Fuse 11\n",
        "        if 14 in self.checkpoint_list:\n",
        "          x = self.fuse11(x)\n",
        "        else:\n",
        "          x = checkpoint.checkpoint(self.fuse11,x)\n",
        "\n",
        "        # 15 - Conv2\n",
        "        if 15 in self.checkpoint_list:\n",
        "          x = self.conv2(x)\n",
        "        else:\n",
        "          x = checkpoint.checkpoint(self.conv2,x)\n",
        "        # 16 - Hswish\n",
        "        if 16 in self.checkpoint_list:\n",
        "          x = self.hswish(x)\n",
        "        else:\n",
        "          x = checkpoint.checkpoint(self.hswish,x)\n",
        "        # 17 - Batchnorm2\n",
        "        if 17 in self.checkpoint_list:\n",
        "          x = self.batchn2(x)\n",
        "        else:\n",
        "          x = checkpoint.checkpoint(self.batchn2,x)\n",
        "        # 18 - Adaptive\n",
        "        if 18 in self.checkpoint_list:\n",
        "          x = self.adap(x)\n",
        "        else:\n",
        "          x = checkpoint.checkpoint(self.adap,x)\n",
        "        # 19 - Conv3\n",
        "        if 19 in self.checkpoint_list:\n",
        "          x = self.conv3(x)\n",
        "        else:\n",
        "          x = checkpoint.checkpoint(self.conv3,x)\n",
        "        # 20 - Hswish\n",
        "        if 20 in self.checkpoint_list:\n",
        "          x = self.hswish(x)\n",
        "        else:\n",
        "          x = checkpoint.checkpoint(self.hswish,x)\n",
        "\n",
        "        x = x.flatten(start_dim=1)\n",
        "        x = self.drop(x)\n",
        "        x = self.lin(x)\n",
        "\n",
        "        return x"
      ],
      "execution_count": null,
      "outputs": []
    },
    {
      "cell_type": "code",
      "metadata": {
        "id": "aDci-ohMMHfd"
      },
      "source": [
        "def _initialize_weights(self):\n",
        "\n",
        "    # weight initialization\n",
        "    for m in self.modules():\n",
        "        if isinstance(m, nn.Conv2d):\n",
        "            nn.init.kaiming_normal_(m.weight, mode=\"fan_out\")\n",
        "            if m.bias is not None:\n",
        "                nn.init.zeros_(m.bias)\n",
        "        elif isinstance(m, nn.BatchNorm2d):\n",
        "            nn.init.ones_(m.weight)\n",
        "            nn.init.zeros_(m.bias)\n",
        "        elif isinstance(m, nn.Linear):\n",
        "            nn.init.normal_(m.weight, 0, 0.01)\n",
        "            if m.bias is not None:\n",
        "                nn.init.zeros_(m.bias)"
      ],
      "execution_count": null,
      "outputs": []
    },
    {
      "cell_type": "code",
      "metadata": {
        "id": "YFl28dZ4hYWZ"
      },
      "source": [
        "layers_names = {1:\"Conv 1\",2:\"Batchn 1\",3:\"Hswish 1\",4:\"Fuse 1\",5:\"Fuse 2\",6:\"Fuse 3\",7:\"Fuse 4\",8:\"Fuse 5\",9:\"Fuse 6\",10:\"Fuse 7\",11:\"Fuse 8\",12:\"Fuse 9\",13:\"Fuse 10\",14:\"Fuse 11\",15:\"Conv 2\",16:\"Hswish 2\",17:\"Batchn 2\",18:\"Adaptive\",19:\"Conv 3\",20:\"Hswish 3\"}"
      ],
      "execution_count": null,
      "outputs": []
    },
    {
      "cell_type": "code",
      "metadata": {
        "colab": {
          "base_uri": "https://localhost:8080/"
        },
        "id": "XQnQ7XdHhKpN",
        "outputId": "e4348a17-9c6c-4979-9b2c-a8876e42c835"
      },
      "source": [
        "# Set the Layers to checkpoint :\n",
        "cpt_layers = [2,8,17]\n",
        "cpt_names = [layers_names[i] for i in cpt_layers]\n",
        "\n",
        "print(cpt_names)"
      ],
      "execution_count": null,
      "outputs": [
        {
          "output_type": "stream",
          "text": [
            "['Batchn 1', 'Fuse 5', 'Batchn 2']\n"
          ],
          "name": "stdout"
        }
      ]
    },
    {
      "cell_type": "code",
      "metadata": {
        "colab": {
          "base_uri": "https://localhost:8080/",
          "height": 603
        },
        "id": "xe2KuJangPNp",
        "outputId": "8d8dcbff-095e-4c54-8663-e873f059144b"
      },
      "source": [
        "wandb.init(project=\"fusenet-checkpoint-runs\",name=str(cpt_names),reinit=True)"
      ],
      "execution_count": null,
      "outputs": [
        {
          "output_type": "stream",
          "text": [
            "\u001b[34m\u001b[1mwandb\u001b[0m: Currently logged in as: \u001b[33momshri\u001b[0m (use `wandb login --relogin` to force relogin)\n"
          ],
          "name": "stderr"
        },
        {
          "output_type": "display_data",
          "data": {
            "text/html": [
              "\n",
              "                Tracking run with wandb version 0.10.12<br/>\n",
              "                Syncing run <strong style=\"color:#cdcd00\">['Batchn 1', 'Fuse 5', 'Batchn 2']</strong> to <a href=\"https://wandb.ai\" target=\"_blank\">Weights & Biases</a> <a href=\"https://docs.wandb.com/integrations/jupyter.html\" target=\"_blank\">(Documentation)</a>.<br/>\n",
              "                Project page: <a href=\"https://wandb.ai/omshri/fusenet-checkpoint-runs\" target=\"_blank\">https://wandb.ai/omshri/fusenet-checkpoint-runs</a><br/>\n",
              "                Run page: <a href=\"https://wandb.ai/omshri/fusenet-checkpoint-runs/runs/1f8pbr35\" target=\"_blank\">https://wandb.ai/omshri/fusenet-checkpoint-runs/runs/1f8pbr35</a><br/>\n",
              "                Run data is saved locally in <code>/content/wandb/run-20201215_121339-1f8pbr35</code><br/><br/>\n",
              "            "
            ],
            "text/plain": [
              "<IPython.core.display.HTML object>"
            ]
          },
          "metadata": {
            "tags": []
          }
        },
        {
          "output_type": "execute_result",
          "data": {
            "text/plain": [
              "<wandb.sdk.wandb_run.Run at 0x7f3a4ee444a8>"
            ],
            "text/html": [
              "<h1>Run(1f8pbr35)</h1><p></p><iframe src=\"https://wandb.ai/omshri/fusenet-checkpoint-runs/runs/1f8pbr35\" style=\"border:none;width:100%;height:400px\"></iframe>"
            ]
          },
          "metadata": {
            "tags": []
          },
          "execution_count": 8
        }
      ]
    },
    {
      "cell_type": "code",
      "metadata": {
        "colab": {
          "base_uri": "https://localhost:8080/"
        },
        "id": "RAIUonwpMJos",
        "outputId": "c9d29b4a-576b-4e4a-ff94-4b24302ed3de"
      },
      "source": [
        "# Setting GPU Device\n",
        "if torch.cuda.is_available():\n",
        "    device = torch.device(\"cuda:0\")\n",
        "    print(\"Running on the GPU\")\n",
        "else:\n",
        "    print(\"No GPU Available!\")\n",
        "    exit()"
      ],
      "execution_count": null,
      "outputs": [
        {
          "output_type": "stream",
          "text": [
            "Running on the GPU\n"
          ],
          "name": "stdout"
        }
      ]
    },
    {
      "cell_type": "code",
      "metadata": {
        "id": "p3jyVMe5MP2S",
        "colab": {
          "base_uri": "https://localhost:8080/"
        },
        "outputId": "b0367d05-7c4a-488b-aac8-37d78fd1ace0"
      },
      "source": [
        "fusenet = FuseNet(cpt_layers).to(device)\n",
        "fusenet.apply(_initialize_weights)"
      ],
      "execution_count": null,
      "outputs": [
        {
          "output_type": "execute_result",
          "data": {
            "text/plain": [
              "FuseNet(\n",
              "  (conv1): Conv2d(3, 16, kernel_size=(3, 3), stride=(2, 2), padding=(1, 1), bias=False)\n",
              "  (batchn1): BatchNorm2d(16, eps=1e-05, momentum=0.1, affine=True, track_running_stats=True)\n",
              "  (hswish): Hswish()\n",
              "  (fuse1): Fuse(\n",
              "    (nl): ReLU(inplace=True)\n",
              "    (conv1): Conv2d(16, 16, kernel_size=(1, 1), stride=(1, 1), bias=False)\n",
              "    (batchn1): BatchNorm2d(16, eps=1e-05, momentum=0.1, affine=True, track_running_stats=True)\n",
              "    (conv2_a): Conv2d(16, 16, kernel_size=(3, 1), stride=(2, 2), padding=(1, 0), groups=16, bias=False)\n",
              "    (conv2_b): Conv2d(16, 16, kernel_size=(1, 3), stride=(2, 2), padding=(0, 1), groups=16, bias=False)\n",
              "    (batchn2_a): BatchNorm2d(16, eps=1e-05, momentum=0.1, affine=True, track_running_stats=True)\n",
              "    (batchn2_b): BatchNorm2d(16, eps=1e-05, momentum=0.1, affine=True, track_running_stats=True)\n",
              "    (se): SEModule(\n",
              "      (avg_pool): AdaptiveAvgPool2d(output_size=1)\n",
              "      (fc): Sequential(\n",
              "        (0): Linear(in_features=32, out_features=8, bias=False)\n",
              "        (1): ReLU(inplace=True)\n",
              "        (2): Linear(in_features=8, out_features=32, bias=False)\n",
              "        (3): Hsigmoid()\n",
              "      )\n",
              "    )\n",
              "    (conv3): Conv2d(32, 16, kernel_size=(1, 1), stride=(1, 1), bias=False)\n",
              "    (batchn3): BatchNorm2d(16, eps=1e-05, momentum=0.1, affine=True, track_running_stats=True)\n",
              "  )\n",
              "  (fuse2): Fuse(\n",
              "    (nl): ReLU(inplace=True)\n",
              "    (conv1): Conv2d(16, 72, kernel_size=(1, 1), stride=(1, 1), bias=False)\n",
              "    (batchn1): BatchNorm2d(72, eps=1e-05, momentum=0.1, affine=True, track_running_stats=True)\n",
              "    (conv2_a): Conv2d(72, 72, kernel_size=(3, 1), stride=(2, 2), padding=(1, 0), groups=72, bias=False)\n",
              "    (conv2_b): Conv2d(72, 72, kernel_size=(1, 3), stride=(2, 2), padding=(0, 1), groups=72, bias=False)\n",
              "    (batchn2_a): BatchNorm2d(72, eps=1e-05, momentum=0.1, affine=True, track_running_stats=True)\n",
              "    (batchn2_b): BatchNorm2d(72, eps=1e-05, momentum=0.1, affine=True, track_running_stats=True)\n",
              "    (conv3): Conv2d(144, 24, kernel_size=(1, 1), stride=(1, 1), bias=False)\n",
              "    (batchn3): BatchNorm2d(24, eps=1e-05, momentum=0.1, affine=True, track_running_stats=True)\n",
              "  )\n",
              "  (fuse3): Fuse(\n",
              "    (nl): ReLU(inplace=True)\n",
              "    (conv1): Conv2d(24, 88, kernel_size=(1, 1), stride=(1, 1), bias=False)\n",
              "    (batchn1): BatchNorm2d(88, eps=1e-05, momentum=0.1, affine=True, track_running_stats=True)\n",
              "    (conv2_a): Conv2d(88, 88, kernel_size=(3, 1), stride=(1, 1), padding=(1, 0), groups=88, bias=False)\n",
              "    (conv2_b): Conv2d(88, 88, kernel_size=(1, 3), stride=(1, 1), padding=(0, 1), groups=88, bias=False)\n",
              "    (batchn2_a): BatchNorm2d(88, eps=1e-05, momentum=0.1, affine=True, track_running_stats=True)\n",
              "    (batchn2_b): BatchNorm2d(88, eps=1e-05, momentum=0.1, affine=True, track_running_stats=True)\n",
              "    (conv3): Conv2d(176, 24, kernel_size=(1, 1), stride=(1, 1), bias=False)\n",
              "    (batchn3): BatchNorm2d(24, eps=1e-05, momentum=0.1, affine=True, track_running_stats=True)\n",
              "  )\n",
              "  (fuse4): Fuse(\n",
              "    (nl): Hswish()\n",
              "    (conv1): Conv2d(24, 96, kernel_size=(1, 1), stride=(1, 1), bias=False)\n",
              "    (batchn1): BatchNorm2d(96, eps=1e-05, momentum=0.1, affine=True, track_running_stats=True)\n",
              "    (conv2_a): Conv2d(96, 96, kernel_size=(5, 1), stride=(2, 2), padding=(2, 0), groups=96, bias=False)\n",
              "    (conv2_b): Conv2d(96, 96, kernel_size=(1, 5), stride=(2, 2), padding=(0, 2), groups=96, bias=False)\n",
              "    (batchn2_a): BatchNorm2d(96, eps=1e-05, momentum=0.1, affine=True, track_running_stats=True)\n",
              "    (batchn2_b): BatchNorm2d(96, eps=1e-05, momentum=0.1, affine=True, track_running_stats=True)\n",
              "    (se): SEModule(\n",
              "      (avg_pool): AdaptiveAvgPool2d(output_size=1)\n",
              "      (fc): Sequential(\n",
              "        (0): Linear(in_features=192, out_features=48, bias=False)\n",
              "        (1): ReLU(inplace=True)\n",
              "        (2): Linear(in_features=48, out_features=192, bias=False)\n",
              "        (3): Hsigmoid()\n",
              "      )\n",
              "    )\n",
              "    (conv3): Conv2d(192, 40, kernel_size=(1, 1), stride=(1, 1), bias=False)\n",
              "    (batchn3): BatchNorm2d(40, eps=1e-05, momentum=0.1, affine=True, track_running_stats=True)\n",
              "  )\n",
              "  (fuse5): Fuse(\n",
              "    (nl): Hswish()\n",
              "    (conv1): Conv2d(40, 240, kernel_size=(1, 1), stride=(1, 1), bias=False)\n",
              "    (batchn1): BatchNorm2d(240, eps=1e-05, momentum=0.1, affine=True, track_running_stats=True)\n",
              "    (conv2_a): Conv2d(240, 240, kernel_size=(5, 1), stride=(1, 1), padding=(2, 0), groups=240, bias=False)\n",
              "    (conv2_b): Conv2d(240, 240, kernel_size=(1, 5), stride=(1, 1), padding=(0, 2), groups=240, bias=False)\n",
              "    (batchn2_a): BatchNorm2d(240, eps=1e-05, momentum=0.1, affine=True, track_running_stats=True)\n",
              "    (batchn2_b): BatchNorm2d(240, eps=1e-05, momentum=0.1, affine=True, track_running_stats=True)\n",
              "    (se): SEModule(\n",
              "      (avg_pool): AdaptiveAvgPool2d(output_size=1)\n",
              "      (fc): Sequential(\n",
              "        (0): Linear(in_features=480, out_features=120, bias=False)\n",
              "        (1): ReLU(inplace=True)\n",
              "        (2): Linear(in_features=120, out_features=480, bias=False)\n",
              "        (3): Hsigmoid()\n",
              "      )\n",
              "    )\n",
              "    (conv3): Conv2d(480, 40, kernel_size=(1, 1), stride=(1, 1), bias=False)\n",
              "    (batchn3): BatchNorm2d(40, eps=1e-05, momentum=0.1, affine=True, track_running_stats=True)\n",
              "  )\n",
              "  (fuse6): Fuse(\n",
              "    (nl): Hswish()\n",
              "    (conv1): Conv2d(40, 240, kernel_size=(1, 1), stride=(1, 1), bias=False)\n",
              "    (batchn1): BatchNorm2d(240, eps=1e-05, momentum=0.1, affine=True, track_running_stats=True)\n",
              "    (conv2_a): Conv2d(240, 240, kernel_size=(5, 1), stride=(1, 1), padding=(2, 0), groups=240, bias=False)\n",
              "    (conv2_b): Conv2d(240, 240, kernel_size=(1, 5), stride=(1, 1), padding=(0, 2), groups=240, bias=False)\n",
              "    (batchn2_a): BatchNorm2d(240, eps=1e-05, momentum=0.1, affine=True, track_running_stats=True)\n",
              "    (batchn2_b): BatchNorm2d(240, eps=1e-05, momentum=0.1, affine=True, track_running_stats=True)\n",
              "    (se): SEModule(\n",
              "      (avg_pool): AdaptiveAvgPool2d(output_size=1)\n",
              "      (fc): Sequential(\n",
              "        (0): Linear(in_features=480, out_features=120, bias=False)\n",
              "        (1): ReLU(inplace=True)\n",
              "        (2): Linear(in_features=120, out_features=480, bias=False)\n",
              "        (3): Hsigmoid()\n",
              "      )\n",
              "    )\n",
              "    (conv3): Conv2d(480, 40, kernel_size=(1, 1), stride=(1, 1), bias=False)\n",
              "    (batchn3): BatchNorm2d(40, eps=1e-05, momentum=0.1, affine=True, track_running_stats=True)\n",
              "  )\n",
              "  (fuse7): Fuse(\n",
              "    (nl): Hswish()\n",
              "    (conv1): Conv2d(40, 120, kernel_size=(1, 1), stride=(1, 1), bias=False)\n",
              "    (batchn1): BatchNorm2d(120, eps=1e-05, momentum=0.1, affine=True, track_running_stats=True)\n",
              "    (conv2_a): Conv2d(120, 120, kernel_size=(5, 1), stride=(1, 1), padding=(2, 0), groups=120, bias=False)\n",
              "    (conv2_b): Conv2d(120, 120, kernel_size=(1, 5), stride=(1, 1), padding=(0, 2), groups=120, bias=False)\n",
              "    (batchn2_a): BatchNorm2d(120, eps=1e-05, momentum=0.1, affine=True, track_running_stats=True)\n",
              "    (batchn2_b): BatchNorm2d(120, eps=1e-05, momentum=0.1, affine=True, track_running_stats=True)\n",
              "    (se): SEModule(\n",
              "      (avg_pool): AdaptiveAvgPool2d(output_size=1)\n",
              "      (fc): Sequential(\n",
              "        (0): Linear(in_features=240, out_features=60, bias=False)\n",
              "        (1): ReLU(inplace=True)\n",
              "        (2): Linear(in_features=60, out_features=240, bias=False)\n",
              "        (3): Hsigmoid()\n",
              "      )\n",
              "    )\n",
              "    (conv3): Conv2d(240, 48, kernel_size=(1, 1), stride=(1, 1), bias=False)\n",
              "    (batchn3): BatchNorm2d(48, eps=1e-05, momentum=0.1, affine=True, track_running_stats=True)\n",
              "  )\n",
              "  (fuse8): Fuse(\n",
              "    (nl): Hswish()\n",
              "    (conv1): Conv2d(48, 144, kernel_size=(1, 1), stride=(1, 1), bias=False)\n",
              "    (batchn1): BatchNorm2d(144, eps=1e-05, momentum=0.1, affine=True, track_running_stats=True)\n",
              "    (conv2_a): Conv2d(144, 144, kernel_size=(5, 1), stride=(1, 1), padding=(2, 0), groups=144, bias=False)\n",
              "    (conv2_b): Conv2d(144, 144, kernel_size=(1, 5), stride=(1, 1), padding=(0, 2), groups=144, bias=False)\n",
              "    (batchn2_a): BatchNorm2d(144, eps=1e-05, momentum=0.1, affine=True, track_running_stats=True)\n",
              "    (batchn2_b): BatchNorm2d(144, eps=1e-05, momentum=0.1, affine=True, track_running_stats=True)\n",
              "    (se): SEModule(\n",
              "      (avg_pool): AdaptiveAvgPool2d(output_size=1)\n",
              "      (fc): Sequential(\n",
              "        (0): Linear(in_features=288, out_features=72, bias=False)\n",
              "        (1): ReLU(inplace=True)\n",
              "        (2): Linear(in_features=72, out_features=288, bias=False)\n",
              "        (3): Hsigmoid()\n",
              "      )\n",
              "    )\n",
              "    (conv3): Conv2d(288, 48, kernel_size=(1, 1), stride=(1, 1), bias=False)\n",
              "    (batchn3): BatchNorm2d(48, eps=1e-05, momentum=0.1, affine=True, track_running_stats=True)\n",
              "  )\n",
              "  (fuse9): Fuse(\n",
              "    (nl): Hswish()\n",
              "    (conv1): Conv2d(48, 288, kernel_size=(1, 1), stride=(1, 1), bias=False)\n",
              "    (batchn1): BatchNorm2d(288, eps=1e-05, momentum=0.1, affine=True, track_running_stats=True)\n",
              "    (conv2_a): Conv2d(288, 288, kernel_size=(5, 1), stride=(2, 2), padding=(2, 0), groups=288, bias=False)\n",
              "    (conv2_b): Conv2d(288, 288, kernel_size=(1, 5), stride=(2, 2), padding=(0, 2), groups=288, bias=False)\n",
              "    (batchn2_a): BatchNorm2d(288, eps=1e-05, momentum=0.1, affine=True, track_running_stats=True)\n",
              "    (batchn2_b): BatchNorm2d(288, eps=1e-05, momentum=0.1, affine=True, track_running_stats=True)\n",
              "    (se): SEModule(\n",
              "      (avg_pool): AdaptiveAvgPool2d(output_size=1)\n",
              "      (fc): Sequential(\n",
              "        (0): Linear(in_features=576, out_features=144, bias=False)\n",
              "        (1): ReLU(inplace=True)\n",
              "        (2): Linear(in_features=144, out_features=576, bias=False)\n",
              "        (3): Hsigmoid()\n",
              "      )\n",
              "    )\n",
              "    (conv3): Conv2d(576, 96, kernel_size=(1, 1), stride=(1, 1), bias=False)\n",
              "    (batchn3): BatchNorm2d(96, eps=1e-05, momentum=0.1, affine=True, track_running_stats=True)\n",
              "  )\n",
              "  (fuse10): Fuse(\n",
              "    (nl): Hswish()\n",
              "    (conv1): Conv2d(96, 576, kernel_size=(1, 1), stride=(1, 1), bias=False)\n",
              "    (batchn1): BatchNorm2d(576, eps=1e-05, momentum=0.1, affine=True, track_running_stats=True)\n",
              "    (conv2_a): Conv2d(576, 576, kernel_size=(5, 1), stride=(1, 1), padding=(2, 0), groups=576, bias=False)\n",
              "    (conv2_b): Conv2d(576, 576, kernel_size=(1, 5), stride=(1, 1), padding=(0, 2), groups=576, bias=False)\n",
              "    (batchn2_a): BatchNorm2d(576, eps=1e-05, momentum=0.1, affine=True, track_running_stats=True)\n",
              "    (batchn2_b): BatchNorm2d(576, eps=1e-05, momentum=0.1, affine=True, track_running_stats=True)\n",
              "    (se): SEModule(\n",
              "      (avg_pool): AdaptiveAvgPool2d(output_size=1)\n",
              "      (fc): Sequential(\n",
              "        (0): Linear(in_features=1152, out_features=288, bias=False)\n",
              "        (1): ReLU(inplace=True)\n",
              "        (2): Linear(in_features=288, out_features=1152, bias=False)\n",
              "        (3): Hsigmoid()\n",
              "      )\n",
              "    )\n",
              "    (conv3): Conv2d(1152, 96, kernel_size=(1, 1), stride=(1, 1), bias=False)\n",
              "    (batchn3): BatchNorm2d(96, eps=1e-05, momentum=0.1, affine=True, track_running_stats=True)\n",
              "  )\n",
              "  (fuse11): Fuse(\n",
              "    (nl): Hswish()\n",
              "    (conv1): Conv2d(96, 576, kernel_size=(1, 1), stride=(1, 1), bias=False)\n",
              "    (batchn1): BatchNorm2d(576, eps=1e-05, momentum=0.1, affine=True, track_running_stats=True)\n",
              "    (conv2_a): Conv2d(576, 576, kernel_size=(5, 1), stride=(1, 1), padding=(2, 0), groups=576, bias=False)\n",
              "    (conv2_b): Conv2d(576, 576, kernel_size=(1, 5), stride=(1, 1), padding=(0, 2), groups=576, bias=False)\n",
              "    (batchn2_a): BatchNorm2d(576, eps=1e-05, momentum=0.1, affine=True, track_running_stats=True)\n",
              "    (batchn2_b): BatchNorm2d(576, eps=1e-05, momentum=0.1, affine=True, track_running_stats=True)\n",
              "    (se): SEModule(\n",
              "      (avg_pool): AdaptiveAvgPool2d(output_size=1)\n",
              "      (fc): Sequential(\n",
              "        (0): Linear(in_features=1152, out_features=288, bias=False)\n",
              "        (1): ReLU(inplace=True)\n",
              "        (2): Linear(in_features=288, out_features=1152, bias=False)\n",
              "        (3): Hsigmoid()\n",
              "      )\n",
              "    )\n",
              "    (conv3): Conv2d(1152, 96, kernel_size=(1, 1), stride=(1, 1), bias=False)\n",
              "    (batchn3): BatchNorm2d(96, eps=1e-05, momentum=0.1, affine=True, track_running_stats=True)\n",
              "  )\n",
              "  (conv2): Conv2d(96, 576, kernel_size=(1, 1), stride=(1, 1), bias=False)\n",
              "  (batchn2): BatchNorm2d(576, eps=1e-05, momentum=0.1, affine=True, track_running_stats=True)\n",
              "  (adap): AdaptiveAvgPool2d(output_size=1)\n",
              "  (conv3): Conv2d(576, 1024, kernel_size=(1, 1), stride=(1, 1), bias=False)\n",
              "  (drop): Dropout(p=0.2, inplace=False)\n",
              "  (lin): Linear(in_features=1024, out_features=100, bias=True)\n",
              ")"
            ]
          },
          "metadata": {
            "tags": []
          },
          "execution_count": 10
        }
      ]
    },
    {
      "cell_type": "code",
      "metadata": {
        "colab": {
          "base_uri": "https://localhost:8080/"
        },
        "id": "xn9dUr9AH2Qm",
        "outputId": "298f2913-a54e-4e05-9d14-165e4067eefe"
      },
      "source": [
        "wandb.watch(fusenet)"
      ],
      "execution_count": null,
      "outputs": [
        {
          "output_type": "execute_result",
          "data": {
            "text/plain": [
              "[<wandb.wandb_torch.TorchGraph at 0x7f3a4b971b70>]"
            ]
          },
          "metadata": {
            "tags": []
          },
          "execution_count": 11
        }
      ]
    },
    {
      "cell_type": "code",
      "metadata": {
        "id": "eIrt1TK7jwyk"
      },
      "source": [
        "config = wandb.config        \n",
        "config.batch_size = 128      \n",
        "config.test_batch_size = 1000\n",
        "config.epochs = 20         \n",
        "config.lr = 0.001              \n",
        "config.beta0 = 0.9\n",
        "config.beta1 = 0.999\n",
        "config.eps = 1e-08\n",
        "config.weight_decay = 0"
      ],
      "execution_count": null,
      "outputs": []
    },
    {
      "cell_type": "code",
      "metadata": {
        "id": "q8aiWiBZl9Kt"
      },
      "source": [
        "criterion = nn.CrossEntropyLoss()\n",
        "optimizer=optim.Adam(fusenet.parameters(), lr=config.lr, betas=(config.beta0,config.beta1), eps=config.eps, weight_decay=config.weight_decay)"
      ],
      "execution_count": null,
      "outputs": []
    },
    {
      "cell_type": "code",
      "metadata": {
        "colab": {
          "base_uri": "https://localhost:8080/"
        },
        "id": "4olKqqodjQkH",
        "outputId": "4462fe99-d338-47ed-db10-799a5a3c0033"
      },
      "source": [
        "transform_train = transforms.Compose([                                                                                                                                                  \n",
        "                    transforms.RandomCrop(32, padding=4),                                                                                                                               \n",
        "                    transforms.RandomHorizontalFlip(),                                                                                                                                  \n",
        "                    transforms.ToTensor(),                                                                                                                                              \n",
        "                    transforms.Normalize((0.4914, 0.4822, 0.4465), (0.2023, 0.1994, 0.2010)),                                                                                           \n",
        "                    ])                                                                                                                                                                  \n",
        "trainset = torchvision.datasets.CIFAR100(root='./data', train=True,\n",
        "                                        download=True, transform=transform_train)\n",
        "trainloader = torch.utils.data.DataLoader(trainset, batch_size=config.batch_size,\n",
        "                                          shuffle=True, num_workers=2)"
      ],
      "execution_count": null,
      "outputs": [
        {
          "output_type": "stream",
          "text": [
            "Files already downloaded and verified\n"
          ],
          "name": "stdout"
        }
      ]
    },
    {
      "cell_type": "code",
      "metadata": {
        "id": "7bLVnCJljm_r"
      },
      "source": [
        "# Example inputs to run forward pass\n",
        "\n",
        "input, labels = next(iter(trainloader))\n",
        "input = input.to(device)\n",
        "labels = labels.to(device)"
      ],
      "execution_count": null,
      "outputs": []
    },
    {
      "cell_type": "code",
      "metadata": {
        "colab": {
          "base_uri": "https://localhost:8080/"
        },
        "id": "m8gZ3LNalH5F",
        "outputId": "718a8152-29d5-4f67-b87e-88e04b66a903"
      },
      "source": [
        "# Reset max-memory allocation\n",
        "\n",
        "torch.cuda.reset_max_memory_allocated(\"cuda:0\")"
      ],
      "execution_count": null,
      "outputs": [
        {
          "output_type": "stream",
          "text": [
            "/usr/local/lib/python3.6/dist-packages/torch/cuda/memory.py:234: FutureWarning: torch.cuda.reset_max_memory_allocated now calls torch.cuda.reset_peak_memory_stats, which resets /all/ peak memory stats.\n",
            "  FutureWarning)\n"
          ],
          "name": "stderr"
        }
      ]
    },
    {
      "cell_type": "code",
      "metadata": {
        "colab": {
          "base_uri": "https://localhost:8080/"
        },
        "id": "w8vcWYx7lWBH",
        "outputId": "82929d4b-761f-4c33-d5ad-6aede5c9cdff"
      },
      "source": [
        "outputs = fusenet(input)"
      ],
      "execution_count": null,
      "outputs": [
        {
          "output_type": "stream",
          "text": [
            "/usr/local/lib/python3.6/dist-packages/torch/utils/checkpoint.py:25: UserWarning: None of the inputs have requires_grad=True. Gradients will be None\n",
            "  warnings.warn(\"None of the inputs have requires_grad=True. Gradients will be None\")\n"
          ],
          "name": "stderr"
        }
      ]
    },
    {
      "cell_type": "code",
      "metadata": {
        "id": "Lj1bnkYglphj"
      },
      "source": [
        "loss = criterion(outputs, labels)"
      ],
      "execution_count": null,
      "outputs": []
    },
    {
      "cell_type": "code",
      "metadata": {
        "id": "_RbtMNUQlkcu"
      },
      "source": [
        "mem_max = torch.cuda.max_memory_allocated(\"cuda:0\")"
      ],
      "execution_count": null,
      "outputs": []
    },
    {
      "cell_type": "code",
      "metadata": {
        "id": "l5ACsywNluMX"
      },
      "source": [
        "before_bwd_time = time.time()\n",
        "loss.backward()\n",
        "after_bwd_time = time.time()"
      ],
      "execution_count": null,
      "outputs": []
    },
    {
      "cell_type": "code",
      "metadata": {
        "id": "9X0jBhBSG5iE"
      },
      "source": [
        "wandb.log({\"max_memory_used\":mem_max/(1024)**2})"
      ],
      "execution_count": null,
      "outputs": []
    },
    {
      "cell_type": "code",
      "metadata": {
        "colab": {
          "base_uri": "https://localhost:8080/"
        },
        "id": "RqNdDQGxQbJq",
        "outputId": "a725c7a3-5ba6-4fd7-e643-3dda4c8a424a"
      },
      "source": [
        "time_list = []\n",
        "for i in range(20):\n",
        "  outputs = fusenet(input)\n",
        "  loss = criterion(outputs, labels)\n",
        "  before_bwd_time = time.time()\n",
        "  loss.backward()\n",
        "  after_bwd_time = time.time()\n",
        "  time_list.append(after_bwd_time-before_bwd_time)"
      ],
      "execution_count": null,
      "outputs": [
        {
          "output_type": "stream",
          "text": [
            "/usr/local/lib/python3.6/dist-packages/torch/utils/checkpoint.py:25: UserWarning: None of the inputs have requires_grad=True. Gradients will be None\n",
            "  warnings.warn(\"None of the inputs have requires_grad=True. Gradients will be None\")\n"
          ],
          "name": "stderr"
        }
      ]
    },
    {
      "cell_type": "code",
      "metadata": {
        "id": "WcCKYqXBRlOk"
      },
      "source": [
        "mean_time = (torch.mean(torch.FloatTensor(time_list)).item())"
      ],
      "execution_count": null,
      "outputs": []
    },
    {
      "cell_type": "code",
      "metadata": {
        "id": "QdVG6m22HNsN"
      },
      "source": [
        "wandb.log({\"time_taken\":mean_time})"
      ],
      "execution_count": null,
      "outputs": []
    },
    {
      "cell_type": "code",
      "metadata": {
        "colab": {
          "base_uri": "https://localhost:8080/",
          "height": 503,
          "referenced_widgets": [
            "60b2d98e906f4f67b1b457a57c7dfaac",
            "af8e55b96e904228aa0f315537286bf5",
            "0026a8308c5c474785d6aa94145b1969",
            "19297ec8a51342379c3158c692c254c6",
            "b2f4f41ae7e04d9cbeb4c241e44de6bb",
            "076aabbac083481faade40c3a313e266",
            "d02f229968f141a9a68a6b7b973ddf8d",
            "6c5b9f702b144e88b21a8c3bc764eb84"
          ]
        },
        "id": "lYRUpH4THz51",
        "outputId": "053b655b-8664-446a-be15-2c19621f3fdd"
      },
      "source": [
        "wandb.finish()"
      ],
      "execution_count": null,
      "outputs": [
        {
          "output_type": "display_data",
          "data": {
            "text/html": [
              "<br/>Waiting for W&B process to finish, PID 1620<br/>Program ended successfully."
            ],
            "text/plain": [
              "<IPython.core.display.HTML object>"
            ]
          },
          "metadata": {
            "tags": []
          }
        },
        {
          "output_type": "display_data",
          "data": {
            "application/vnd.jupyter.widget-view+json": {
              "model_id": "60b2d98e906f4f67b1b457a57c7dfaac",
              "version_minor": 0,
              "version_major": 2
            },
            "text/plain": [
              "VBox(children=(Label(value=' 0.02MB of 0.02MB uploaded (0.00MB deduped)\\r'), FloatProgress(value=1.0, max=1.0)…"
            ]
          },
          "metadata": {
            "tags": []
          }
        },
        {
          "output_type": "display_data",
          "data": {
            "text/html": [
              "Find user logs for this run at: <code>/content/wandb/run-20201215_121339-1f8pbr35/logs/debug.log</code>"
            ],
            "text/plain": [
              "<IPython.core.display.HTML object>"
            ]
          },
          "metadata": {
            "tags": []
          }
        },
        {
          "output_type": "display_data",
          "data": {
            "text/html": [
              "Find internal logs for this run at: <code>/content/wandb/run-20201215_121339-1f8pbr35/logs/debug-internal.log</code>"
            ],
            "text/plain": [
              "<IPython.core.display.HTML object>"
            ]
          },
          "metadata": {
            "tags": []
          }
        },
        {
          "output_type": "display_data",
          "data": {
            "text/html": [
              "<h3>Run summary:</h3><br/><style>\n",
              "    table.wandb td:nth-child(1) { padding: 0 10px; text-align: right }\n",
              "    </style><table class=\"wandb\">\n",
              "<tr><td>max_memory_used</td><td>24.85205</td></tr><tr><td>_step</td><td>1</td></tr><tr><td>_runtime</td><td>7</td></tr><tr><td>_timestamp</td><td>1608034426</td></tr><tr><td>time_taken</td><td>0.02898</td></tr></table>"
            ],
            "text/plain": [
              "<IPython.core.display.HTML object>"
            ]
          },
          "metadata": {
            "tags": []
          }
        },
        {
          "output_type": "display_data",
          "data": {
            "text/html": [
              "<h3>Run history:</h3><br/><style>\n",
              "    table.wandb td:nth-child(1) { padding: 0 10px; text-align: right }\n",
              "    </style><table class=\"wandb\">\n",
              "<tr><td>max_memory_used</td><td>▁</td></tr><tr><td>_step</td><td>▁█</td></tr><tr><td>_runtime</td><td>▁█</td></tr><tr><td>_timestamp</td><td>▁█</td></tr><tr><td>time_taken</td><td>▁</td></tr></table><br/>"
            ],
            "text/plain": [
              "<IPython.core.display.HTML object>"
            ]
          },
          "metadata": {
            "tags": []
          }
        },
        {
          "output_type": "display_data",
          "data": {
            "text/html": [
              "Synced 5 W&B file(s), 1 media file(s), 0 artifact file(s) and 1 other file(s)"
            ],
            "text/plain": [
              "<IPython.core.display.HTML object>"
            ]
          },
          "metadata": {
            "tags": []
          }
        },
        {
          "output_type": "display_data",
          "data": {
            "text/html": [
              "\n",
              "                    <br/>Synced <strong style=\"color:#cdcd00\">['Batchn 1', 'Fuse 5', 'Batchn 2']</strong>: <a href=\"https://wandb.ai/omshri/fusenet-checkpoint-runs/runs/1f8pbr35\" target=\"_blank\">https://wandb.ai/omshri/fusenet-checkpoint-runs/runs/1f8pbr35</a><br/>\n",
              "                "
            ],
            "text/plain": [
              "<IPython.core.display.HTML object>"
            ]
          },
          "metadata": {
            "tags": []
          }
        }
      ]
    }
  ]
}